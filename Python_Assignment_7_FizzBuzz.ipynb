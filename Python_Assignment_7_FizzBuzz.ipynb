{
 "cells": [
  {
   "cell_type": "code",
   "execution_count": 2,
   "metadata": {},
   "outputs": [
    {
     "output_type": "stream",
     "name": "stdout",
     "text": "1\nbuzz\nfizz\n4\n5\nfizz\n7\nbuzz\nfizz\nbuzz\n11\nfizz\n13\n14\nfizzbuzz\nbuzz\n17\nfizz\n19\n20\nfizz\n22\n23\nfizz\n25\nbuzz\nfizz\n28\n29\nfizzbuzz\n31\nbuzz\nfizz\nbuzz\n35\nfizz\n37\n38\nfizz\nbuzz\n41\nfizz\n43\n44\nfizzbuzz\n46\n47\nfizz\n49\nbuzz\nfizz\n52\n53\nfizz\n55\nbuzz\nfizz\nbuzz\n59\nfizzbuzz\n61\n62\nfizz\nbuzz\n65\nfizz\n67\n68\nfizz\n70\n71\nfizz\n73\nbuzz\nfizzbuzz\n76\n77\nfizz\n79\nbuzz\nfizz\nbuzz\n83\nfizz\n85\n86\nfizz\nbuzz\n89\nfizzbuzz\n91\n92\nfizz\n94\n95\nfizz\n97\nbuzz\nfizz\n"
    }
   ],
   "source": [
    "for x in range (1,100):\n",
    "    if (x%3 == 0 and x%5 == 0):\n",
    "        x = \"fizzbuzz\"\n",
    "    elif (x%3 == 0):\n",
    "        x = \"fizz\"\n",
    "    elif (x&5 == 0):\n",
    "        x=\"buzz\"\n",
    "    print (x)"
   ]
  },
  {
   "cell_type": "code",
   "execution_count": null,
   "metadata": {},
   "outputs": [],
   "source": []
  }
 ],
 "metadata": {
  "language_info": {
   "codemirror_mode": {
    "name": "ipython",
    "version": 3
   },
   "file_extension": ".py",
   "mimetype": "text/x-python",
   "name": "python",
   "nbconvert_exporter": "python",
   "pygments_lexer": "ipython3",
   "version": "3.7.7-final"
  },
  "orig_nbformat": 2,
  "kernelspec": {
   "name": "python3",
   "display_name": "Python 3"
  }
 },
 "nbformat": 4,
 "nbformat_minor": 2
}